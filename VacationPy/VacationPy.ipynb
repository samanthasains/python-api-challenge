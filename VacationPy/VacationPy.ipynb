{
 "cells": [
  {
   "cell_type": "markdown",
   "metadata": {},
   "source": [
    "1. Create a heat map that displays the humidity for every city from the part I of the homework.\n",
    "\n",
    "2. Narrow down the DataFrame to find your ideal weather condition. For example: (A max temperature lower than 80 degrees but higher than 70., Wind speed less than 10 mph., Zero cloudiness.) Drop any rows that don't contain all three conditions. You want to be sure the weather is ideal. Note: Feel free to adjust to your specifications but be sure to limit the number of rows returned by your API requests to a reasonable number.\n",
    "\n",
    "3. Using Google Places API to find the first hotel for each city located within 5000 meters of your coordinates.\n",
    "\n",
    "4. Plot the hotels on top of the humidity heatmap with each pin containing the Hotel Name, City, and Country."
   ]
  },
  {
   "cell_type": "code",
   "execution_count": 50,
   "metadata": {},
   "outputs": [],
   "source": [
    "#Import dependencies\n",
    "from config import gkey\n",
    "import gmaps\n",
    "import numpy as np\n",
    "import pandas as pd\n",
    "import requests"
   ]
  },
  {
   "cell_type": "code",
   "execution_count": 51,
   "metadata": {},
   "outputs": [],
   "source": [
    "#Import csv\n",
    "city_data = \"Resources/citydata.csv\"\n",
    "\n",
    "# Read City Data File and store into Pandas DataFrames\n",
    "city_data = pd.read_csv(city_data)"
   ]
  },
  {
   "cell_type": "code",
   "execution_count": 52,
   "metadata": {},
   "outputs": [],
   "source": [
    "# Configure gmaps with API key\n",
    "gmaps.configure(api_key=gkey)"
   ]
  },
  {
   "cell_type": "code",
   "execution_count": 53,
   "metadata": {},
   "outputs": [],
   "source": [
    "# Store 'Lat' and 'Lng' into  locations \n",
    "locations = city_data[[\"Latitude\", \"Longitude\"]].astype(float)\n",
    "\n",
    "# Convert Poverty Rate to float and store\n",
    "humidity = city_data[\"Humidity\"].astype(float)"
   ]
  },
  {
   "cell_type": "code",
   "execution_count": 54,
   "metadata": {},
   "outputs": [
    {
     "data": {
      "application/vnd.jupyter.widget-view+json": {
       "model_id": "a3d2ed5a664f43e887152492a3a1b599",
       "version_major": 2,
       "version_minor": 0
      },
      "text/plain": [
       "Figure(layout=FigureLayout(height='420px'))"
      ]
     },
     "metadata": {},
     "output_type": "display_data"
    }
   ],
   "source": [
    "# Create a poverty Heatmap layer\n",
    "fig = gmaps.figure(center=(0,0), zoom_level=2)\n",
    "\n",
    "heat_layer = gmaps.heatmap_layer(locations, weights=humidity, \n",
    "                                 dissipating=False, max_intensity=100,\n",
    "                                 point_radius = 2)\n",
    "\n",
    "fig.add_layer(heat_layer)\n",
    "\n",
    "fig"
   ]
  },
  {
   "cell_type": "code",
   "execution_count": 56,
   "metadata": {},
   "outputs": [
    {
     "data": {
      "text/html": [
       "<div>\n",
       "<style scoped>\n",
       "    .dataframe tbody tr th:only-of-type {\n",
       "        vertical-align: middle;\n",
       "    }\n",
       "\n",
       "    .dataframe tbody tr th {\n",
       "        vertical-align: top;\n",
       "    }\n",
       "\n",
       "    .dataframe thead th {\n",
       "        text-align: right;\n",
       "    }\n",
       "</style>\n",
       "<table border=\"1\" class=\"dataframe\">\n",
       "  <thead>\n",
       "    <tr style=\"text-align: right;\">\n",
       "      <th></th>\n",
       "      <th>City Name</th>\n",
       "      <th>Latitude</th>\n",
       "      <th>Longitude</th>\n",
       "      <th>Temperature</th>\n",
       "      <th>Humidity</th>\n",
       "      <th>Cloudiness</th>\n",
       "      <th>Wind Speed</th>\n",
       "      <th>Country</th>\n",
       "      <th>Date</th>\n",
       "    </tr>\n",
       "  </thead>\n",
       "  <tbody>\n",
       "    <tr>\n",
       "      <th>155</th>\n",
       "      <td>bulawayo</td>\n",
       "      <td>-20.15</td>\n",
       "      <td>28.58</td>\n",
       "      <td>68.29</td>\n",
       "      <td>34.0</td>\n",
       "      <td>0.0</td>\n",
       "      <td>6.78</td>\n",
       "      <td>ZW</td>\n",
       "      <td>1.603572e+09</td>\n",
       "    </tr>\n",
       "    <tr>\n",
       "      <th>258</th>\n",
       "      <td>turayf</td>\n",
       "      <td>31.67</td>\n",
       "      <td>38.66</td>\n",
       "      <td>62.60</td>\n",
       "      <td>25.0</td>\n",
       "      <td>0.0</td>\n",
       "      <td>8.05</td>\n",
       "      <td>SA</td>\n",
       "      <td>1.603572e+09</td>\n",
       "    </tr>\n",
       "    <tr>\n",
       "      <th>314</th>\n",
       "      <td>nizwa</td>\n",
       "      <td>22.93</td>\n",
       "      <td>57.53</td>\n",
       "      <td>67.78</td>\n",
       "      <td>25.0</td>\n",
       "      <td>0.0</td>\n",
       "      <td>5.59</td>\n",
       "      <td>OM</td>\n",
       "      <td>1.603572e+09</td>\n",
       "    </tr>\n",
       "    <tr>\n",
       "      <th>317</th>\n",
       "      <td>katra</td>\n",
       "      <td>32.98</td>\n",
       "      <td>74.95</td>\n",
       "      <td>60.40</td>\n",
       "      <td>36.0</td>\n",
       "      <td>0.0</td>\n",
       "      <td>9.62</td>\n",
       "      <td>IN</td>\n",
       "      <td>1.603572e+09</td>\n",
       "    </tr>\n",
       "    <tr>\n",
       "      <th>515</th>\n",
       "      <td>abha</td>\n",
       "      <td>18.22</td>\n",
       "      <td>42.51</td>\n",
       "      <td>64.40</td>\n",
       "      <td>16.0</td>\n",
       "      <td>0.0</td>\n",
       "      <td>4.70</td>\n",
       "      <td>SA</td>\n",
       "      <td>1.603572e+09</td>\n",
       "    </tr>\n",
       "    <tr>\n",
       "      <th>535</th>\n",
       "      <td>faya</td>\n",
       "      <td>18.39</td>\n",
       "      <td>42.45</td>\n",
       "      <td>64.40</td>\n",
       "      <td>16.0</td>\n",
       "      <td>0.0</td>\n",
       "      <td>4.70</td>\n",
       "      <td>SA</td>\n",
       "      <td>1.603572e+09</td>\n",
       "    </tr>\n",
       "    <tr>\n",
       "      <th>590</th>\n",
       "      <td>hun</td>\n",
       "      <td>29.13</td>\n",
       "      <td>15.95</td>\n",
       "      <td>63.07</td>\n",
       "      <td>41.0</td>\n",
       "      <td>0.0</td>\n",
       "      <td>3.89</td>\n",
       "      <td>LY</td>\n",
       "      <td>1.603572e+09</td>\n",
       "    </tr>\n",
       "    <tr>\n",
       "      <th>593</th>\n",
       "      <td>buraydah</td>\n",
       "      <td>26.33</td>\n",
       "      <td>43.98</td>\n",
       "      <td>68.00</td>\n",
       "      <td>28.0</td>\n",
       "      <td>0.0</td>\n",
       "      <td>5.50</td>\n",
       "      <td>SA</td>\n",
       "      <td>1.603572e+09</td>\n",
       "    </tr>\n",
       "    <tr>\n",
       "      <th>646</th>\n",
       "      <td>marzuq</td>\n",
       "      <td>14.40</td>\n",
       "      <td>46.47</td>\n",
       "      <td>64.45</td>\n",
       "      <td>26.0</td>\n",
       "      <td>0.0</td>\n",
       "      <td>0.74</td>\n",
       "      <td>YE</td>\n",
       "      <td>1.603571e+09</td>\n",
       "    </tr>\n",
       "  </tbody>\n",
       "</table>\n",
       "</div>"
      ],
      "text/plain": [
       "    City Name  Latitude  Longitude  Temperature  Humidity  Cloudiness  \\\n",
       "155  bulawayo    -20.15      28.58        68.29      34.0         0.0   \n",
       "258    turayf     31.67      38.66        62.60      25.0         0.0   \n",
       "314     nizwa     22.93      57.53        67.78      25.0         0.0   \n",
       "317     katra     32.98      74.95        60.40      36.0         0.0   \n",
       "515      abha     18.22      42.51        64.40      16.0         0.0   \n",
       "535      faya     18.39      42.45        64.40      16.0         0.0   \n",
       "590       hun     29.13      15.95        63.07      41.0         0.0   \n",
       "593  buraydah     26.33      43.98        68.00      28.0         0.0   \n",
       "646    marzuq     14.40      46.47        64.45      26.0         0.0   \n",
       "\n",
       "     Wind Speed Country          Date  \n",
       "155        6.78      ZW  1.603572e+09  \n",
       "258        8.05      SA  1.603572e+09  \n",
       "314        5.59      OM  1.603572e+09  \n",
       "317        9.62      IN  1.603572e+09  \n",
       "515        4.70      SA  1.603572e+09  \n",
       "535        4.70      SA  1.603572e+09  \n",
       "590        3.89      LY  1.603572e+09  \n",
       "593        5.50      SA  1.603572e+09  \n",
       "646        0.74      YE  1.603571e+09  "
      ]
     },
     "execution_count": 56,
     "metadata": {},
     "output_type": "execute_result"
    }
   ],
   "source": [
    "#Narrow down data frame\n",
    "# Temp between 60-75, Wind speed less than 10, Clouds less than 20, Humidity less than 55\n",
    "ideal_subset=city_data.loc[(city_data['Temperature'] >= 60) & (city_data['Temperature'] <= 72) & \n",
    "                           (city_data['Wind Speed'] <= 10) & (city_data['Cloudiness'] <= 0) & (city_data['Humidity'] < 55)]\n",
    "\n",
    "ideal_subset"
   ]
  },
  {
   "cell_type": "code",
   "execution_count": 57,
   "metadata": {},
   "outputs": [],
   "source": [
    "base_url = \"https://maps.googleapis.com/maps/api/place/nearbysearch/json\""
   ]
  },
  {
   "cell_type": "code",
   "execution_count": null,
   "metadata": {},
   "outputs": [],
   "source": [
    "#Search for nearest hotels within 5,000 m\n",
    "\n",
    "base_url = \"https://maps.googleapis.com/maps/api/place/nearbysearch/json\"\n",
    "params = {\n",
    "    \"location\": \"39.952583,-75.16522\",\n",
    "    \"rankby\": \"distance\",\n",
    "    \"type\": \"hotel\",\n",
    "    \"key\": gkey,\n",
    "}\n",
    "# use iterrows to iterate through pandas dataframe\n",
    "for index, row in ideal_subset.iterrows():\n",
    "\n",
    "    # get restaurant type from df\n",
    "    restr_type = row['ethnicity']\n",
    "\n",
    "    # add keyword to params dict\n",
    "    params['latitude'] = restr_type\n",
    "\n",
    "    # assemble url and make API request\n",
    "    print(f\"Retrieving Results for Index {index}: {restr_type}.\")\n",
    "    response = requests.get(base_url, params=params).json()\n",
    "    \n",
    "    # extract results\n",
    "    results = response['results']\n",
    "    \n",
    "    try:\n",
    "        print(f\"Closest {restr_type} restaurant is {results[0]['name']}.\")\n",
    "        \n",
    "        types_df.loc[index, 'name'] = results[0]['name']\n",
    "        types_df.loc[index, 'address'] = results[0]['vicinity']\n",
    "        types_df.loc[index, 'price_level'] = results[0]['price_level']\n",
    "        types_df.loc[index, 'rating'] = results[0]['rating']\n",
    "        \n",
    "    except (KeyError, IndexError):\n",
    "        print(\"Missing field/result... skipping.\")\n",
    "        \n",
    "    print(\"------------\")"
   ]
  },
  {
   "cell_type": "code",
   "execution_count": null,
   "metadata": {},
   "outputs": [],
   "source": [
    "# Convert hotels to list\n",
    "hotel_list = census_data_complete[\"Bank Count\"].tolist()"
   ]
  },
  {
   "cell_type": "code",
   "execution_count": null,
   "metadata": {},
   "outputs": [],
   "source": [
    "# Create hotel symbol layer\n",
    "hotel_layer = gmaps.symbol_layer(\n",
    "    locations, fill_color='rgba(0, 150, 0, 0.4)',\n",
    "    stroke_color='rgba(0, 0, 150, 0.4)', scale=2,\n",
    "    info_box_content=[f\"Hotel location: {hotel}\" for hotel in hotel_list]\n",
    ")\n",
    "\n",
    "\n",
    "fig = gmaps.figure()\n",
    "fig.add_layer(hotel_layer)\n",
    "\n",
    "fig"
   ]
  },
  {
   "cell_type": "code",
   "execution_count": null,
   "metadata": {},
   "outputs": [],
   "source": [
    "# Create a combined map with hotels and heat map\n",
    "fig = gmaps.figure()\n",
    "\n",
    "fig.add_layer(heat_layer)\n",
    "fig.add_layer(hotel_layer)\n",
    "\n",
    "fig"
   ]
  }
 ],
 "metadata": {
  "kernelspec": {
   "display_name": "Python 3",
   "language": "python",
   "name": "python3"
  },
  "language_info": {
   "codemirror_mode": {
    "name": "ipython",
    "version": 3
   },
   "file_extension": ".py",
   "mimetype": "text/x-python",
   "name": "python",
   "nbconvert_exporter": "python",
   "pygments_lexer": "ipython3",
   "version": "3.8.3"
  }
 },
 "nbformat": 4,
 "nbformat_minor": 4
}
